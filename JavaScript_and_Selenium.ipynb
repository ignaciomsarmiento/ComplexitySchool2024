{
 "cells": [
  {
   "cell_type": "markdown",
   "metadata": {},
   "source": [
    "<div >\n",
    "    <img src = \"_images/banner.jpg\"  height=\"200\">\n",
    "</div>\n",
    "\n",
    "# Data Diggers: The Art of Interacting and Collecting Data from the Web\n",
    "### Summer 2024 Complexity Global School\n",
    "\n",
    "\n"
   ]
  },
  {
   "cell_type": "markdown",
   "metadata": {},
   "source": [
    "## JavaScript and Selenium\n",
    "\n",
    "### Javascript"
   ]
  },
  {
   "cell_type": "markdown",
   "metadata": {},
   "source": [
    "<div >\n",
    "    <img src = \"_images/javascript.webp\"  height=\"200\" width=\"450\">\n",
    "</div>"
   ]
  },
  {
   "cell_type": "markdown",
   "metadata": {},
   "source": [
    "**A simple function**\n",
    "\n",
    "```javascript\n",
    "function greet(name) {\n",
    "    return \"Hello, \" + name + \"!\";\n",
    "}\n",
    "\n",
    "console.log(greet(\"Ignacio\"));\n",
    "```"
   ]
  },
  {
   "cell_type": "markdown",
   "metadata": {},
   "source": [
    "### AJAX"
   ]
  },
  {
   "cell_type": "markdown",
   "metadata": {},
   "source": [
    "\n",
    "\n",
    "<div >\n",
    "    <img src = \"https://www.w3schools.com/whatis/img_ajax.gif\"  height=\"200\">\n",
    "</div>"
   ]
  },
  {
   "cell_type": "markdown",
   "metadata": {},
   "source": [
    "### Selenium"
   ]
  },
  {
   "cell_type": "code",
   "execution_count": null,
   "metadata": {},
   "outputs": [],
   "source": [
    "from selenium import webdriver\n",
    "from selenium.webdriver.firefox.service import Service\n",
    "from selenium.webdriver.common.by import By\n",
    "import time\n",
    "\n",
    "path = '/Users/iggy/Downloads/geckodriver'\n",
    "\n",
    "service = Service(executable_path= path)\n",
    "\n",
    "driver = webdriver.Firefox(service=service)\n",
    "\n",
    "driver.get(\"https://ignaciomsarmiento.github.io/\")\n",
    "\n",
    "time.sleep(5)\n",
    "\n",
    "driver.quit()"
   ]
  },
  {
   "cell_type": "code",
   "execution_count": null,
   "metadata": {},
   "outputs": [],
   "source": [
    "\n",
    "path = '/Users/iggy/Downloads/geckodriver'\n",
    "\n",
    "service = Service(executable_path= path)\n",
    "\n",
    "driver = webdriver.Firefox(service=service)\n",
    "\n",
    "driver.get(\"https://pythonscraping.com/pages/javascript/ajaxDemo.html\")\n",
    "\n",
    "time.sleep(3)\n",
    "\n",
    "print(driver.find_element(By.CSS_SELECTOR, '#content').text)\n",
    "\n",
    "driver.quit()\n"
   ]
  },
  {
   "cell_type": "code",
   "execution_count": null,
   "metadata": {},
   "outputs": [],
   "source": [
    "from selenium.webdriver.support.ui import WebDriverWait\n",
    "from selenium.webdriver.support import expected_conditions as EC\n",
    "from selenium.webdriver.firefox.options import Options\n",
    "\n",
    "\n",
    "firefox_options = Options()\n",
    "firefox_options.add_argument(\"--headless\")\n",
    "\n",
    "driver = webdriver.Firefox(service=service, options=firefox_options)\n",
    "\n",
    "driver.get(\"https://pythonscraping.com/pages/javascript/ajaxDemo.html\")\n",
    "\n",
    "\n",
    "try:\n",
    "    element = WebDriverWait(driver, 10).until(\n",
    "        EC.presence_of_element_located((By.ID, 'loadedButton'))\n",
    "    )\n",
    "finally:\n",
    "    print(driver.find_element(By.ID, 'content').text)\n",
    "\n",
    "\n",
    "driver.quit()"
   ]
  },
  {
   "cell_type": "markdown",
   "metadata": {},
   "source": [
    "### Selectors and Filling forms"
   ]
  },
  {
   "cell_type": "code",
   "execution_count": null,
   "metadata": {},
   "outputs": [],
   "source": [
    "from selenium import webdriver\n",
    "from selenium.webdriver.common.by import By\n",
    "from selenium.webdriver.firefox.service import Service\n",
    "from selenium.webdriver.firefox.options import Options\n",
    "from selenium.webdriver.support.ui import WebDriverWait\n",
    "from selenium.webdriver.support import expected_conditions as EC\n",
    "\n",
    "# Define the path to the geckodriver\n",
    "geckodriver_path = '/Users/iggy/Downloads/geckodriver'\n",
    "\n",
    "# Set Firefox options\n",
    "firefox_options = Options()\n",
    "firefox_options.add_argument(\"--headless\")\n",
    "\n",
    "# Create a Service object with the path to geckodriver\n",
    "service = Service(executable_path=geckodriver_path)\n",
    "\n",
    "# Create a WebDriver instance with the service and options\n",
    "driver = webdriver.Firefox(service=service, options=firefox_options)\n",
    "\n",
    "# Open a webpage\n",
    "driver.get('http://pythonscraping.com/pages/javascript/ajaxDemo.html')\n",
    "\n",
    "# Wait until the element with ID 'loadedButton' is present\n",
    "element = WebDriverWait(driver, 10).until(\n",
    "    EC.presence_of_element_located((By.ID, 'loadedButton'))\n",
    ")\n",
    "\n",
    "# Find the element using Xpath\n",
    "\n",
    "content = driver.find_element(By.XPATH,'//*[@id=\"content\"]').text\n",
    "\n",
    "print(content)\n",
    "\n",
    "driver.quit()"
   ]
  },
  {
   "cell_type": "markdown",
   "metadata": {},
   "source": [
    "### Filling the form"
   ]
  },
  {
   "cell_type": "code",
   "execution_count": 5,
   "metadata": {},
   "outputs": [],
   "source": [
    "from selenium import webdriver\n",
    "from selenium.webdriver.common.by import By\n",
    "from selenium.webdriver.firefox.service import Service\n",
    "from selenium.webdriver.firefox.options import Options\n",
    "from selenium.webdriver.support.ui import WebDriverWait\n",
    "from selenium.webdriver.support import expected_conditions as EC\n",
    "import time\n",
    "from selenium.webdriver.support.ui import Select\n",
    "\n",
    "# Define the path to the geckodriver\n",
    "geckodriver_path = '/Users/iggy/Downloads/geckodriver'\n",
    "\n",
    "# Create a Service object with the path to geckodriver\n",
    "service = Service(executable_path=geckodriver_path)\n",
    "\n",
    "# Create a WebDriver instance with the service and options\n",
    "driver = webdriver.Firefox(service=service)\n",
    "\n",
    "# Open a webpage\n",
    "driver.get('https://selenium-practice.netlify.app/')\n",
    "\n",
    "time.sleep(2)\n",
    "\n",
    "name_input = driver.find_element(By.XPATH,'//*[@id=\"name\"]')\n",
    "name_input.send_keys('Ignacio Sarmiento')\n",
    "\n",
    "time.sleep(2)\n",
    "\n",
    "selection_input = driver.find_element(By.XPATH, '//*[@id=\"selection\"]')\n",
    "\n",
    "select = Select(selection_input)\n",
    "select.select_by_visible_text(\"Item 3\")\n",
    "\n",
    "time.sleep(2)\n",
    "\n",
    "driver.find_element(By.XPATH,'//*[@id=\"check2\"]').click()\n",
    "driver.find_element(By.XPATH,'//*[@id=\"check3\"]').click()\n",
    "\n",
    "date_input = driver.find_element(By.XPATH,'//*[@id=\"date\"]')\n",
    "driver.execute_script(\"arguments[0].setAttribute('value', '2024-06-03')\", date_input) \n",
    "\n",
    "time.sleep(2)\n",
    "\n",
    "driver.find_element(By.XPATH,'/html/body/form/button').click()\n",
    "\n",
    "time.sleep(3)\n",
    "driver.quit()"
   ]
  },
  {
   "cell_type": "code",
   "execution_count": null,
   "metadata": {},
   "outputs": [],
   "source": []
  }
 ],
 "metadata": {
  "kernelspec": {
   "display_name": "Python [conda env:webscraping] *",
   "language": "python",
   "name": "conda-env-webscraping-py"
  },
  "language_info": {
   "codemirror_mode": {
    "name": "ipython",
    "version": 3
   },
   "file_extension": ".py",
   "mimetype": "text/x-python",
   "name": "python",
   "nbconvert_exporter": "python",
   "pygments_lexer": "ipython3",
   "version": "3.11.5"
  }
 },
 "nbformat": 4,
 "nbformat_minor": 2
}
