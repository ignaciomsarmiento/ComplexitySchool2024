{
 "cells": [
  {
   "cell_type": "markdown",
   "id": "a9fac7f4",
   "metadata": {},
   "source": [
    "<div >\n",
    "    <img src = \"_images/banner.jpg\"  height=\"200\">\n",
    "</div>\n",
    "\n",
    "# Data Diggers: The Art of Interacting and Collecting Data from the Web\n",
    "### Summer 2024 Complexity Global School\n"
   ]
  },
  {
   "cell_type": "code",
   "execution_count": null,
   "id": "b774c968",
   "metadata": {},
   "outputs": [],
   "source": [
    "#!pip install webdriver_manager"
   ]
  },
  {
   "cell_type": "code",
   "execution_count": null,
   "id": "0a1ec786",
   "metadata": {},
   "outputs": [],
   "source": [
    "#!pip install selenium==4.9.0"
   ]
  },
  {
   "cell_type": "code",
   "execution_count": null,
   "id": "190012f7",
   "metadata": {},
   "outputs": [],
   "source": [
    "# Importing the required modules from the Selenium library and other necessary libraries\n",
    "\n",
    "\n",
    "# It allows you to programmatically control a web browser, simulate user actions like clicking, typing, and navigating between pages.\n",
    "# WebDriver supports multiple browsers like Chrome, Firefox, Safari, and others.\n",
    "\n",
    "# Import the main Selenium WebDriver module\n",
    "from selenium import webdriver\n",
    "\n",
    "# Import the Service class to manage the WebDriver service\n",
    "from selenium.webdriver.chrome.service import Service\n",
    "\n",
    "# Import ChromeDriverManager to automatically manage ChromeDriver binary\n",
    "from webdriver_manager.chrome import ChromeDriverManager\n",
    "\n",
    "# Import the By class to use for locating elements\n",
    "from selenium.webdriver.common.by import By\n",
    "\n",
    "# Import Options class to configure Chrome browser options\n",
    "from selenium.webdriver.chrome.options import Options\n",
    "\n",
    "# Import Select class to work with dropdown menus\n",
    "from selenium.webdriver.support.ui import Select\n",
    "\n",
    "# Import WebDriverWait to wait for certain conditions to be met before proceeding\n",
    "from selenium.webdriver.support.ui import WebDriverWait\n",
    "\n",
    "# Import expected_conditions to use with WebDriverWait\n",
    "from selenium.webdriver.support import expected_conditions as EC\n",
    "\n",
    "# Import time module for adding delays\n",
    "import time\n",
    "\n",
    "# Import ActionChains to perform complex user interactions\n",
    "from selenium.webdriver.common.action_chains import ActionChains\n",
    "\n",
    "\n",
    "\n",
    "# Configure Chrome options\n",
    "## We are going to configures various options for a Chrome browser instance controlled by Selenium WebDriver. \n",
    "## These options include disabling notifications, pop-ups, infobars, and GPU hardware acceleration; \n",
    "## starting the browser maximized; allowing insecure content; \n",
    "## and setting some experimental preferences such as allowing cookies and not blocking third-party cookies. \n",
    "## These settings help customize the browser environment for automated web testing or interaction.\n",
    "\n",
    "chrome_options = Options()\n",
    "\n",
    "# Disable notifications\n",
    "chrome_options.add_argument(\"--disable-notifications\")\n",
    "\n",
    "# Disable popup blocking\n",
    "chrome_options.add_argument(\"--disable-popup-blocking\")\n",
    "\n",
    "# Disable infobars (information bars)\n",
    "chrome_options.add_argument(\"--disable-infobars\")\n",
    "\n",
    "# Start Chrome maximized\n",
    "chrome_options.add_argument(\"--start-maximized\")\n",
    "\n",
    "# Disable extensions\n",
    "chrome_options.add_argument(\"--disable-extensions\")\n",
    "\n",
    "# Disable GPU hardware acceleration\n",
    "chrome_options.add_argument(\"--disable-gpu\")\n",
    "\n",
    "# Disable the sandbox for increased performance (but less security)\n",
    "chrome_options.add_argument(\"--no-sandbox\")\n",
    "\n",
    "# Disable the shared memory usage (useful for Docker)\n",
    "chrome_options.add_argument(\"--disable-dev-shm-usage\")\n",
    "\n",
    "# Disable browser side navigation (a workaround for some issues)\n",
    "chrome_options.add_argument(\"--disable-browser-side-navigation\")\n",
    "\n",
    "# Allow running insecure content\n",
    "chrome_options.add_argument(\"--allow-running-insecure-content\")\n",
    "\n",
    "# Accept insecure certificates\n",
    "chrome_options.add_argument(\"--acceptInsecureCerts=true\")\n",
    "\n",
    "# Enable the NetworkService in process\n",
    "chrome_options.add_argument(\"--enable-features=NetworkServiceInProcess\")\n",
    "\n",
    "# Set some experimental options for the browser\n",
    "chrome_options.add_experimental_option(\"prefs\", {\n",
    "    # Allow cookies\n",
    "    \"profile.default_content_setting_values.cookies\": 1,\n",
    "    # Do not block third-party cookies\n",
    "    \"profile.block_third_party_cookies\": False,\n",
    "})\n",
    "\n"
   ]
  },
  {
   "cell_type": "code",
   "execution_count": null,
   "id": "bbe5ff55",
   "metadata": {},
   "outputs": [],
   "source": [
    "path= '/Users/iggy/Downloads/chromedriver-mac-x64/chromedriver'  # Path to your chromedriver executable"
   ]
  },
  {
   "cell_type": "code",
   "execution_count": null,
   "id": "efc7009c",
   "metadata": {},
   "outputs": [],
   "source": [
    "# Define any URL from Finca Raíz\n",
    "url_property = \"https://www.fincaraiz.com.co/inmueble/apartamento-en-arriendo/modelia/bogota/10862709\"\n",
    "\n",
    "\n",
    "# Define the driver and the wait\n",
    "service = Service(executable_path= path)\n",
    "driver = webdriver.Chrome(service=service, options=chrome_options)\n",
    "\n",
    "wait = WebDriverWait(driver, 15)\n",
    "driver.implicitly_wait(15)\n",
    "\n",
    "# Open the URL from Finca Raíz; later, this would be part of a loop for multiple URLs\n",
    "driver.get(url_property)  # Navigate to the specified property URL\n",
    "\n",
    "driver.maximize_window()"
   ]
  },
  {
   "cell_type": "code",
   "execution_count": null,
   "id": "42e9d30d",
   "metadata": {},
   "outputs": [],
   "source": [
    "strata = driver.find_element(By.XPATH,'//*[@id=\"__next\"]/div/div/div/div[3]/div[2]/div[1]/div[2]/div/div/div[1]/div[3]/div')\n",
    "print(strata.text)"
   ]
  },
  {
   "cell_type": "code",
   "execution_count": null,
   "id": "66eee75f",
   "metadata": {},
   "outputs": [],
   "source": [
    "property_type= driver.find_element(By.XPATH,'//*[@id=\"__next\"]/div/div/div/div[3]/div[2]/div[1]/div[2]/div/div/div[2]/div[3]/div/strong')\n",
    "print(property_type.text)"
   ]
  },
  {
   "cell_type": "code",
   "execution_count": null,
   "id": "0ba96b93",
   "metadata": {},
   "outputs": [],
   "source": [
    "identity = 'John Smith'\n",
    "phone = \"3155552368\"\n",
    "mail= 'j.smith@outlook.com'"
   ]
  },
  {
   "cell_type": "code",
   "execution_count": null,
   "id": "a850c698",
   "metadata": {},
   "outputs": [],
   "source": [
    "message= \"Hello. My name is Adam Smith. I'm an economist and I'm interested in the apartment\""
   ]
  },
  {
   "cell_type": "code",
   "execution_count": null,
   "id": "9f36e2a7",
   "metadata": {},
   "outputs": [],
   "source": [
    "# Fill in the form fields\n",
    "name_field = wait.until(EC.visibility_of_element_located((By.XPATH, '')))\n",
    "name_field.send_keys(identity)"
   ]
  },
  {
   "cell_type": "code",
   "execution_count": null,
   "id": "eec6a873",
   "metadata": {},
   "outputs": [],
   "source": [
    "phone_field = wait.until(EC.visibility_of_element_located((By.XPATH, '')))\n",
    "phone_field.send_keys(phone)"
   ]
  },
  {
   "cell_type": "code",
   "execution_count": null,
   "id": "b8f37aa1",
   "metadata": {},
   "outputs": [],
   "source": [
    "email_field = wait.until(EC.visibility_of_element_located((By.XPATH, '')))\n",
    "email_field.send_keys(mail)    \n"
   ]
  },
  {
   "cell_type": "code",
   "execution_count": null,
   "id": "fa3e4a63",
   "metadata": {},
   "outputs": [],
   "source": [
    "message_field = wait.until(EC.visibility_of_element_located((By.XPATH, '')))\n",
    "message_field.send_keys(message)    \n"
   ]
  },
  {
   "cell_type": "code",
   "execution_count": null,
   "id": "1846aa93",
   "metadata": {},
   "outputs": [],
   "source": [
    "#date and time it was sent\n",
    "import datetime\n",
    "\n",
    "current_time = datetime.datetime.now()\n",
    "\n",
    "print(current_time)"
   ]
  },
  {
   "cell_type": "code",
   "execution_count": null,
   "id": "0b2c5080",
   "metadata": {},
   "outputs": [],
   "source": [
    "inquiry = {\n",
    "    'time_inquiry_sent' : str(current_time),\n",
    "    'identity_sent' : identity,\n",
    "    'property_type' : property_type.text,\n",
    "    'property_strata' : strata.text\n",
    "}"
   ]
  },
  {
   "cell_type": "code",
   "execution_count": null,
   "id": "3f854e9e",
   "metadata": {},
   "outputs": [],
   "source": [
    "import pandas as pd\n",
    "\n",
    "pd.DataFrame(inquiry, index=[0])"
   ]
  },
  {
   "cell_type": "code",
   "execution_count": null,
   "id": "9d3ed184",
   "metadata": {},
   "outputs": [],
   "source": [
    "driver.quit()"
   ]
  }
 ],
 "metadata": {
  "kernelspec": {
   "display_name": "Python [conda env:webscraping] *",
   "language": "python",
   "name": "conda-env-webscraping-py"
  },
  "language_info": {
   "codemirror_mode": {
    "name": "ipython",
    "version": 3
   },
   "file_extension": ".py",
   "mimetype": "text/x-python",
   "name": "python",
   "nbconvert_exporter": "python",
   "pygments_lexer": "ipython3",
   "version": "3.11.5"
  }
 },
 "nbformat": 4,
 "nbformat_minor": 5
}
